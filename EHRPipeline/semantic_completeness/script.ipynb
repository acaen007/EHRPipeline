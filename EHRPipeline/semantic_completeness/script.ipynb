{
 "cells": [
  {
   "cell_type": "code",
   "execution_count": 1,
   "metadata": {},
   "outputs": [],
   "source": [
    "input_file = \"enhanced_triples_FINAL.txt\"\n",
    "output_file = \"formatted_triples_FINAL.txt\"\n",
    "\n",
    "with open(input_file, \"r\") as infile, open(output_file, \"w\") as outfile:\n",
    "    for line in infile:\n",
    "        parts = line.strip().split()\n",
    "        if len(parts) >= 3:\n",
    "            subject = parts[0]\n",
    "            predicate = parts[1]\n",
    "            obj = \" \".join(parts[2:])\n",
    "            outfile.write(f\"{subject}\\t{predicate}\\t{obj}\\n\")\n"
   ]
  }
 ],
 "metadata": {
  "kernelspec": {
   "display_name": "base",
   "language": "python",
   "name": "python3"
  },
  "language_info": {
   "codemirror_mode": {
    "name": "ipython",
    "version": 3
   },
   "file_extension": ".py",
   "mimetype": "text/x-python",
   "name": "python",
   "nbconvert_exporter": "python",
   "pygments_lexer": "ipython3",
   "version": "3.8.8"
  }
 },
 "nbformat": 4,
 "nbformat_minor": 2
}
