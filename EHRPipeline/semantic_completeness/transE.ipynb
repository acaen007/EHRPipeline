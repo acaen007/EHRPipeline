{
 "cells": [
  {
   "cell_type": "code",
   "execution_count": null,
   "metadata": {},
   "outputs": [],
   "source": [
    "!pip install pykeen"
   ]
  },
  {
   "cell_type": "code",
   "execution_count": 2,
   "metadata": {},
   "outputs": [
    {
     "name": "stderr",
     "output_type": "stream",
     "text": [
      "using automatically assigned random_state=1349332655\n",
      "No random seed is specified. Setting to 2190298758.\n",
      "No cuda devices were available. The model runs on CPU\n",
      "Training epochs on cpu: 100%|██████████| 150/150 [04:29<00:00,  1.80s/epoch, loss=0.49, prev_loss=0.49]  \n",
      "Evaluating on cpu:   0%|          | 0.00/2.21k [00:00<?, ?triple/s]WARNING:torch_max_mem.api:Encountered tensors on device_types={'cpu'} while only ['cuda'] are considered safe for automatic memory utilization maximization. This may lead to undocumented crashes (but can be safe, too).\n",
      "Evaluating on cpu: 100%|██████████| 2.21k/2.21k [00:07<00:00, 306triple/s]\n",
      "INFO:pykeen.evaluation.evaluator:Evaluation took 7.32s seconds\n"
     ]
    },
    {
     "name": "stdout",
     "output_type": "stream",
     "text": [
      "PipelineResult(random_seed=2190298758, model=TransE(\n",
      "  (loss): SoftplusLoss(\n",
      "    (margin_activation): Softplus(beta=1, threshold=20)\n",
      "  )\n",
      "  (interaction): TransEInteraction()\n",
      "  (entity_representations): ModuleList(\n",
      "    (0): Embedding(\n",
      "      (_embeddings): Embedding(7714, 20)\n",
      "    )\n",
      "  )\n",
      "  (relation_representations): ModuleList(\n",
      "    (0): Embedding(\n",
      "      (_embeddings): Embedding(5, 20)\n",
      "    )\n",
      "  )\n",
      "  (weight_regularizers): ModuleList()\n",
      "), training=TriplesFactory(num_entities=7714, num_relations=5, create_inverse_triples=False, num_triples=17674, path=\"/Users/andycaen/Desktop/EHRPipeline/EHRPipeline/semantic_completeness/formatted_triples_FINAL.txt\"), training_loop=<pykeen.training.slcwa.SLCWATrainingLoop object at 0x7fc9e85dcbe0>, losses=[2.036353869420926, 1.75668938810959, 1.669085209882712, 1.6020047535301332, 1.5393241486540754, 1.4797362744484845, 1.424180722150406, 1.3727051601703084, 1.3254360870254407, 1.2823200814331635, 1.2426687746323901, 1.2063515809302303, 1.1729475300738867, 1.1421915835972074, 1.1135646331159375, 1.0870312119263206, 1.0624276309073726, 1.0388235745119574, 1.0170494931300338, 0.9961558614889493, 0.976445915686071, 0.9573931467684009, 0.9398915792460036, 0.92319084270091, 0.9069702162880579, 0.8917143050628372, 0.8772870722558571, 0.8627829097925431, 0.849343956702441, 0.8360183787604568, 0.8234031487114822, 0.811249371031956, 0.7998695499642633, 0.788348014380574, 0.7779970990382741, 0.767367804244457, 0.7575199834692543, 0.74762926071505, 0.7383334870579876, 0.7294701360449006, 0.7212840305745709, 0.71344769335138, 0.7055686442804595, 0.6974177739934938, 0.6907508019728428, 0.6823413089645275, 0.6765678356827707, 0.6696265644880575, 0.663116357425669, 0.657328544969369, 0.6509002923534317, 0.6437043916252164, 0.6387917252819965, 0.6331566572189331, 0.6288817449461056, 0.6242178371327695, 0.6188850245467147, 0.6134773433531818, 0.6090927789051752, 0.6044672575609162, 0.6003695814777671, 0.5957786327675928, 0.5914182226437987, 0.5887085870851444, 0.5838464941512826, 0.5808165608004248, 0.5768518663444312, 0.5737537802020206, 0.5712870574989112, 0.5678550593460663, 0.5628539041412243, 0.5607242920515119, 0.55638706333814, 0.5534809856906291, 0.5514248084095029, 0.5477371722944822, 0.544804558885464, 0.5436800899923818, 0.5394423718262753, 0.5363677622073382, 0.5342238679609075, 0.5301540935341316, 0.5275067396556274, 0.5248888690583745, 0.5219123931517438, 0.5207530010026791, 0.5181843144768616, 0.5160061985415964, 0.5147148849843424, 0.5117487224596965, 0.5104613281503508, 0.5086344716561854, 0.5081313680891103, 0.5059370697083568, 0.5053632935714549, 0.503908382994788, 0.5022585106370246, 0.5012528250165701, 0.5005715417711041, 0.500914487873236, 0.5008736360568897, 0.4993838707210789, 0.49815889379215067, 0.4979342810715301, 0.4980003546525945, 0.4969459225644255, 0.49535935395018316, 0.49673181572831343, 0.4968019015211309, 0.49509789871479676, 0.4940170582121147, 0.49347405079044876, 0.49311697946534666, 0.49452231083381887, 0.4943540481611359, 0.49285389830578946, 0.4919422160005483, 0.4933984060830708, 0.4920101005173074, 0.4923938528969749, 0.49218387694298465, 0.4925242146682567, 0.4912503373019303, 0.4918996768230556, 0.49121188691684176, 0.48950793692474986, 0.49076978342227007, 0.49172588999620614, 0.4898293851512681, 0.48961424358714556, 0.4892886935802308, 0.489388304851801, 0.48966068800060486, 0.4897868221534743, 0.4897675087934808, 0.48941251964293164, 0.49169433138469676, 0.4905320741168845, 0.4896208358824145, 0.49090199018904357, 0.49019174846343927, 0.4888909522167813, 0.49050791046934145, 0.49014595334180655, 0.488426517028274, 0.4909558610394462, 0.48824199328155243, 0.48894235610315206, 0.4897083646026701, 0.4899914367073914], metric_results=<pykeen.evaluation.rank_based_evaluator.RankBasedMetricResults object at 0x7fca29cac670>, train_seconds=270.19716787338257, evaluate_seconds=7.320466756820679, stopper=<pykeen.stoppers.stopper.NopStopper object at 0x7fca297a03d0>, configuration={'dataset': '<user defined>', 'training': '<user defined>', 'testing': '<user defined>', 'validation': '<user defined>', 'model': 'TransE', 'model_kwargs': {'embedding_dim': 20, 'random_seed': 2190298758, 'loss': SoftplusLoss(\n",
      "  (margin_activation): Softplus(beta=1, threshold=20)\n",
      ")}, 'loss_kwargs': None, 'regularizer_kwargs': None, 'optimizer': 'Adam', 'optimizer_kwargs': {'lr': 0.001, 'weight_decay': 1e-05, 'betas': (0.9, 0.999), 'eps': 1e-08, 'amsgrad': False, 'maximize': False, 'foreach': None, 'capturable': False, 'differentiable': False, 'fused': None}, 'negative_sampler': 'BasicNegativeSampler', 'negative_sampler_kwargs': None, 'training_loop': 'SLCWATrainingLoop', 'training_loop_kwargs': {'negative_sampler': <class 'pykeen.sampling.basic_negative_sampler.BasicNegativeSampler'>, 'negative_sampler_kwargs': None}, 'evaluator': 'RankBasedEvaluator', 'evaluator_kwargs': {'filtered': True}, 'num_epochs': 150, 'batch_size': 32, 'label_smoothing': 0.1, 'evaluation_kwargs': {'additional_filter_triples': {'training': {'sha512': '710dc637395180e8d84a8e33cf42490afee69612a57a370187e2f05a154c283b5a7c1dc35dedb0692b69758406c1e232b30d0528aeb9ff5d6ebb55f0a9fa54cd'}, 'validation': {'sha512': '8dd43ff8c61bb2a013da61612ca1eff6af430e763d7aa56af717cbc54dabf70b939f67bda080b6ac0f52db4dee3755cc4995aa59f44726d1cb0f0e1f08d58357'}}}}, metadata={}, version='1.10.2', git_hash='UNHASHED')\n"
     ]
    }
   ],
   "source": [
    "from pykeen.pipeline import pipeline\n",
    "from pykeen.triples import TriplesFactory\n",
    "\n",
    "triples_factory = TriplesFactory.from_path('formatted_triples_FINAL.txt')\n",
    "training, validation, testing = triples_factory.split([0.8, 0.1, 0.1])\n",
    "\n",
    "\n",
    "\n",
    "result = pipeline(\n",
    "    training=training,\n",
    "    validation=validation,\n",
    "    testing=testing,\n",
    "\n",
    "    model='transE',\n",
    "    model_kwargs={\n",
    "        'embedding_dim': 20,\n",
    "    },\n",
    "\n",
    "    optimizer='Adam',\n",
    "    optimizer_kwargs={\n",
    "        'lr': 1e-3,\n",
    "        'weight_decay': 1e-5\n",
    "    },\n",
    "\n",
    "    negative_sampler='basic',\n",
    "    # negative_sampler_kwargs={\n",
    "    #     'num_negs_per_pos': 1\n",
    "    # },\n",
    "\n",
    "    loss='SoftplusLoss',\n",
    "\n",
    "    training_loop='sLCWA',\n",
    "\n",
    "    training_kwargs={\n",
    "        'num_epochs': 150,\n",
    "        'batch_size': 32,\n",
    "        'label_smoothing': 0.1\n",
    "    },\n",
    "\n",
    "    evaluator_kwargs=  {\n",
    "        # 'batch_size': 64,\n",
    "        \"filtered\": True\n",
    "    },\n",
    "    filter_validation_when_testing = True,\n",
    ")\n",
    "\n",
    "print(result)\n"
   ]
  },
  {
   "cell_type": "code",
   "execution_count": 3,
   "metadata": {},
   "outputs": [
    {
     "data": {
      "text/plain": [
       "<Axes: title={'center': 'Losses Plot'}, xlabel='Epoch', ylabel='softplus Loss'>"
      ]
     },
     "execution_count": 3,
     "metadata": {},
     "output_type": "execute_result"
    },
    {
     "data": {
      "image/png": "[encoded data removed]",
      "text/plain": [
       "<Figure size 432x288 with 1 Axes>"
      ]
     },
     "metadata": {
      "needs_background": "light"
     },
     "output_type": "display_data"
    }
   ],
   "source": [
    "# Plot the training loss by epoch\n",
    "result.plot_losses()"
   ]
  },
  {
   "cell_type": "code",
   "execution_count": 8,
   "metadata": {},
   "outputs": [
    {
     "data": {
      "text/html": [
       "<div>\n",
       "<style scoped>\n",
       "    .dataframe tbody tr th:only-of-type {\n",
       "        vertical-align: middle;\n",
       "    }\n",
       "\n",
       "    .dataframe tbody tr th {\n",
       "        vertical-align: top;\n",
       "    }\n",
       "\n",
       "    .dataframe thead th {\n",
       "        text-align: right;\n",
       "    }\n",
       "</style>\n",
       "<table border=\"1\" class=\"dataframe\">\n",
       "  <thead>\n",
       "    <tr style=\"text-align: right;\">\n",
       "      <th></th>\n",
       "      <th>tail_id</th>\n",
       "      <th>score</th>\n",
       "      <th>tail_label</th>\n",
       "    </tr>\n",
       "  </thead>\n",
       "  <tbody>\n",
       "    <tr>\n",
       "      <th>7488</th>\n",
       "      <td>7488</td>\n",
       "      <td>-1.409861</td>\n",
       "      <td>icd9#2859</td>\n",
       "    </tr>\n",
       "    <tr>\n",
       "      <th>7482</th>\n",
       "      <td>7482</td>\n",
       "      <td>-1.551415</td>\n",
       "      <td>icd9#25000</td>\n",
       "    </tr>\n",
       "    <tr>\n",
       "      <th>7507</th>\n",
       "      <td>7507</td>\n",
       "      <td>-1.562186</td>\n",
       "      <td>icd9#51881</td>\n",
       "    </tr>\n",
       "    <tr>\n",
       "      <th>7494</th>\n",
       "      <td>7494</td>\n",
       "      <td>-1.585680</td>\n",
       "      <td>icd9#4019</td>\n",
       "    </tr>\n",
       "    <tr>\n",
       "      <th>7514</th>\n",
       "      <td>7514</td>\n",
       "      <td>-1.645640</td>\n",
       "      <td>icd9#5849</td>\n",
       "    </tr>\n",
       "    <tr>\n",
       "      <th>7522</th>\n",
       "      <td>7522</td>\n",
       "      <td>-1.793367</td>\n",
       "      <td>icd9#7907</td>\n",
       "    </tr>\n",
       "    <tr>\n",
       "      <th>7485</th>\n",
       "      <td>7485</td>\n",
       "      <td>-1.794299</td>\n",
       "      <td>icd9#2762</td>\n",
       "    </tr>\n",
       "    <tr>\n",
       "      <th>7505</th>\n",
       "      <td>7505</td>\n",
       "      <td>-1.844175</td>\n",
       "      <td>icd9#5119</td>\n",
       "    </tr>\n",
       "    <tr>\n",
       "      <th>7480</th>\n",
       "      <td>7480</td>\n",
       "      <td>-2.269198</td>\n",
       "      <td>icd9#20300</td>\n",
       "    </tr>\n",
       "    <tr>\n",
       "      <th>7516</th>\n",
       "      <td>7516</td>\n",
       "      <td>-2.367263</td>\n",
       "      <td>icd9#5939</td>\n",
       "    </tr>\n",
       "  </tbody>\n",
       "</table>\n",
       "</div>"
      ],
      "text/plain": [
       "      tail_id     score  tail_label\n",
       "7488     7488 -1.409861   icd9#2859\n",
       "7482     7482 -1.551415  icd9#25000\n",
       "7507     7507 -1.562186  icd9#51881\n",
       "7494     7494 -1.585680   icd9#4019\n",
       "7514     7514 -1.645640   icd9#5849\n",
       "7522     7522 -1.793367   icd9#7907\n",
       "7485     7485 -1.794299   icd9#2762\n",
       "7505     7505 -1.844175   icd9#5119\n",
       "7480     7480 -2.269198  icd9#20300\n",
       "7516     7516 -2.367263   icd9#5939"
      ]
     },
     "execution_count": 8,
     "metadata": {},
     "output_type": "execute_result"
    }
   ],
   "source": [
    "from pykeen import predict  # or pykeen.models.predict, depending on version\n",
    "\n",
    "df_predictions = predict.predict_target(\n",
    "    model=result.model,\n",
    "    head=\"Diagnosis/10033/PATIENTS/112578\",\n",
    "    relation=\"hasCode\",\n",
    "    triples_factory=result.training\n",
    ").df\n",
    "\n",
    "# Inspect the top 10\n",
    "df_predictions.head(10)\n"
   ]
  }
 ],
 "metadata": {
  "kernelspec": {
   "display_name": "base",
   "language": "python",
   "name": "python3"
  },
  "language_info": {
   "codemirror_mode": {
    "name": "ipython",
    "version": 3
   },
   "file_extension": ".py",
   "mimetype": "text/x-python",
   "name": "python",
   "nbconvert_exporter": "python",
   "pygments_lexer": "ipython3",
   "version": "3.8.8"
  }
 },
 "nbformat": 4,
 "nbformat_minor": 2
}
